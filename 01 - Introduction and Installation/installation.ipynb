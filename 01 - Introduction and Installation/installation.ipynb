{
 "cells": [
  {
   "cell_type": "markdown",
   "metadata": {},
   "source": [
    "# Installation\n",
    "\n",
    "## Working on your local machines\n",
    "Linux and Mac OS comes with pre-installed Python. To run python, open terminal and type:\n",
    "```\n",
    "python3\n",
    "```\n",
    "Windows users can download python from [here](https://www.python.org/downloads/)\n",
    "\n",
    "If you wish to work locally on your machines, it is recommended to use a virtual environment.\n",
    "\n",
    "### Why virtual environment instead of system Python?\n",
    "Running with the system Python and libraries limits you to one specific Python version, chosen by your OS provider. Trying to run all Python applications on one Python installation makes it likely that version conflicts will occur among the collection of libraries. It's also possible that changes to the system Python will break other OS features that depend on it.\n",
    "\n",
    "Virtual environments, or \"virtualenvs\" are lightweight, self-contained Python installations, designed to be set up with a minimum of fuss, and to \"just work\" without requiring extensive configuration or specialized knowledge.\n",
    "\n",
    "virtualenv avoids the need to install Python packages globally. When a virtualenv is active, you will install packages within the environment, which does not affect the base Python installation in any way. Thus, allowing you to have isloated version of packages for each project you are working on.\n",
    "\n",
    "### Anaconda Virtual Environment\n",
    "It is strongly recommended using the free Anaconda Python distribution, which provides an easy way for you to handle package dependencies. \n",
    "You can download it from [here](https://www.anaconda.com/products/individual#Downloads)\n",
    "\n",
    "Once you are done with installing anaconda, the next step is to create a virtual environment for you project.\n",
    "To setup a virtual environment (lets name it \"myenv\")\n",
    "```\n",
    "# this will create environment at location path/to/anaconda3/envs/ with specific version of python\n",
    "conda create --name myenv myenv python=3.7\n",
    "```\n",
    "To activate enter command `activate myenv` and `deactivate` to simply return to base environment or exit the terminal.\n",
    "\n",
    "some useful commands in anaconda are:\n",
    "```\n",
    "# display lists of environments\n",
    "conda info --envs\n",
    "\n",
    "# install pip in anaconda, pip is useful for installing python packages\n",
    "conda install pip\n",
    "\n",
    "# for example to install opencv\n",
    "pip install opencv-python\n",
    "\n",
    "# To run jupyter notebook from anaconda enter following command in your project directory\n",
    "jupyter notebook\n",
    "```\n",
    "# Working remotely\n",
    "Google Colaboratory is basically a combination of Jupyter notebook and Google Drive. It runs entirely in the cloud and comes preinstalled with many packages (e.g. OpenCV and NumPy) so everyone has access to the same dependencies. Even cooler is the fact that Colab benefits from free access to hardware accelerators like GPUs (K80, P100) and TPUs.\n",
    "\n",
    "## Requirements\n",
    "You must have google account linked with google drive.\n",
    "\n",
    "Go to https://colab.research.google.com/ and create a new notebook\n",
    "\n",
    "Now, to confirm your installation you can run a \"Hello World\" program on any of these setups.\n",
    "```\n",
    "print(\"Hello World\") # Outputs Hello World\n",
    "```\n"
   ]
  },
  {
   "cell_type": "code",
   "execution_count": null,
   "metadata": {},
   "outputs": [],
   "source": []
  }
 ],
 "metadata": {
  "kernelspec": {
   "display_name": "Python 3",
   "language": "python",
   "name": "python3"
  },
  "language_info": {
   "codemirror_mode": {
    "name": "ipython",
    "version": 3
   },
   "file_extension": ".py",
   "mimetype": "text/x-python",
   "name": "python",
   "nbconvert_exporter": "python",
   "pygments_lexer": "ipython3",
   "version": "3.7.7"
  }
 },
 "nbformat": 4,
 "nbformat_minor": 4
}
